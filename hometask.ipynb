{
 "cells": [
  {
   "metadata": {},
   "cell_type": "markdown",
   "source": [
    "## Описание задачи\n",
    "Задача состоит в том ,чтобы определить диапазон цен на основе таких параметров как: бренда, модели, года выпуска, цвета и т.д."
   ],
   "id": "ecb99104122e1d12"
  },
  {
   "metadata": {
    "ExecuteTime": {
     "end_time": "2024-12-15T15:16:13.070450Z",
     "start_time": "2024-12-15T15:16:12.596564Z"
    }
   },
   "cell_type": "code",
   "source": [
    "import numpy as np\n",
    "import matplotlib.pyplot as plt\n",
    "%matplotlib inline\n",
    "import pandas as pd\n",
    "import seaborn as sns\n",
    "import sklearn"
   ],
   "id": "1ab028964c7188bb",
   "outputs": [],
   "execution_count": 3
  },
  {
   "metadata": {},
   "cell_type": "markdown",
   "source": "## 1. Загрузка данных\n",
   "id": "81058013aeb5ba94"
  },
  {
   "metadata": {
    "ExecuteTime": {
     "end_time": "2024-12-15T15:16:13.098585Z",
     "start_time": "2024-12-15T15:16:13.082348Z"
    }
   },
   "cell_type": "code",
   "source": [
    "dataset = pd.read_csv('./USA_cars_datasets.csv')\n",
    "dataset.shape"
   ],
   "id": "f8b42518bebbaf4b",
   "outputs": [
    {
     "data": {
      "text/plain": [
       "(2499, 13)"
      ]
     },
     "execution_count": 4,
     "metadata": {},
     "output_type": "execute_result"
    }
   ],
   "execution_count": 4
  },
  {
   "metadata": {},
   "cell_type": "markdown",
   "source": "Датасет содержит данные о 2499 моделей машин с описанием 13 параметров",
   "id": "e3ec241e6d478035"
  },
  {
   "metadata": {
    "ExecuteTime": {
     "end_time": "2024-12-15T15:16:13.152043Z",
     "start_time": "2024-12-15T15:16:13.141717Z"
    }
   },
   "cell_type": "code",
   "source": "dataset.head()",
   "id": "52195d3937a2c0b7",
   "outputs": [
    {
     "data": {
      "text/plain": [
       "   Unnamed: 0  price      brand    model  year   title_status   mileage  \\\n",
       "0           0   6300     toyota  cruiser  2008  clean vehicle  274117.0   \n",
       "1           1   2899       ford       se  2011  clean vehicle  190552.0   \n",
       "2           2   5350      dodge      mpv  2018  clean vehicle   39590.0   \n",
       "3           3  25000       ford     door  2014  clean vehicle   64146.0   \n",
       "4           4  27700  chevrolet     1500  2018  clean vehicle    6654.0   \n",
       "\n",
       "    color                  vin        lot       state country      condition  \n",
       "0   black    jtezu11f88k007763  159348797  new jersey     usa   10 days left  \n",
       "1  silver    2fmdk3gc4bbb02217  166951262   tennessee     usa    6 days left  \n",
       "2  silver    3c4pdcgg5jt346413  167655728     georgia     usa    2 days left  \n",
       "3    blue    1ftfw1et4efc23745  167753855    virginia     usa  22 hours left  \n",
       "4     red    3gcpcrec2jg473991  167763266     florida     usa  22 hours left  "
      ],
      "text/html": [
       "<div>\n",
       "<style scoped>\n",
       "    .dataframe tbody tr th:only-of-type {\n",
       "        vertical-align: middle;\n",
       "    }\n",
       "\n",
       "    .dataframe tbody tr th {\n",
       "        vertical-align: top;\n",
       "    }\n",
       "\n",
       "    .dataframe thead th {\n",
       "        text-align: right;\n",
       "    }\n",
       "</style>\n",
       "<table border=\"1\" class=\"dataframe\">\n",
       "  <thead>\n",
       "    <tr style=\"text-align: right;\">\n",
       "      <th></th>\n",
       "      <th>Unnamed: 0</th>\n",
       "      <th>price</th>\n",
       "      <th>brand</th>\n",
       "      <th>model</th>\n",
       "      <th>year</th>\n",
       "      <th>title_status</th>\n",
       "      <th>mileage</th>\n",
       "      <th>color</th>\n",
       "      <th>vin</th>\n",
       "      <th>lot</th>\n",
       "      <th>state</th>\n",
       "      <th>country</th>\n",
       "      <th>condition</th>\n",
       "    </tr>\n",
       "  </thead>\n",
       "  <tbody>\n",
       "    <tr>\n",
       "      <th>0</th>\n",
       "      <td>0</td>\n",
       "      <td>6300</td>\n",
       "      <td>toyota</td>\n",
       "      <td>cruiser</td>\n",
       "      <td>2008</td>\n",
       "      <td>clean vehicle</td>\n",
       "      <td>274117.0</td>\n",
       "      <td>black</td>\n",
       "      <td>jtezu11f88k007763</td>\n",
       "      <td>159348797</td>\n",
       "      <td>new jersey</td>\n",
       "      <td>usa</td>\n",
       "      <td>10 days left</td>\n",
       "    </tr>\n",
       "    <tr>\n",
       "      <th>1</th>\n",
       "      <td>1</td>\n",
       "      <td>2899</td>\n",
       "      <td>ford</td>\n",
       "      <td>se</td>\n",
       "      <td>2011</td>\n",
       "      <td>clean vehicle</td>\n",
       "      <td>190552.0</td>\n",
       "      <td>silver</td>\n",
       "      <td>2fmdk3gc4bbb02217</td>\n",
       "      <td>166951262</td>\n",
       "      <td>tennessee</td>\n",
       "      <td>usa</td>\n",
       "      <td>6 days left</td>\n",
       "    </tr>\n",
       "    <tr>\n",
       "      <th>2</th>\n",
       "      <td>2</td>\n",
       "      <td>5350</td>\n",
       "      <td>dodge</td>\n",
       "      <td>mpv</td>\n",
       "      <td>2018</td>\n",
       "      <td>clean vehicle</td>\n",
       "      <td>39590.0</td>\n",
       "      <td>silver</td>\n",
       "      <td>3c4pdcgg5jt346413</td>\n",
       "      <td>167655728</td>\n",
       "      <td>georgia</td>\n",
       "      <td>usa</td>\n",
       "      <td>2 days left</td>\n",
       "    </tr>\n",
       "    <tr>\n",
       "      <th>3</th>\n",
       "      <td>3</td>\n",
       "      <td>25000</td>\n",
       "      <td>ford</td>\n",
       "      <td>door</td>\n",
       "      <td>2014</td>\n",
       "      <td>clean vehicle</td>\n",
       "      <td>64146.0</td>\n",
       "      <td>blue</td>\n",
       "      <td>1ftfw1et4efc23745</td>\n",
       "      <td>167753855</td>\n",
       "      <td>virginia</td>\n",
       "      <td>usa</td>\n",
       "      <td>22 hours left</td>\n",
       "    </tr>\n",
       "    <tr>\n",
       "      <th>4</th>\n",
       "      <td>4</td>\n",
       "      <td>27700</td>\n",
       "      <td>chevrolet</td>\n",
       "      <td>1500</td>\n",
       "      <td>2018</td>\n",
       "      <td>clean vehicle</td>\n",
       "      <td>6654.0</td>\n",
       "      <td>red</td>\n",
       "      <td>3gcpcrec2jg473991</td>\n",
       "      <td>167763266</td>\n",
       "      <td>florida</td>\n",
       "      <td>usa</td>\n",
       "      <td>22 hours left</td>\n",
       "    </tr>\n",
       "  </tbody>\n",
       "</table>\n",
       "</div>"
      ]
     },
     "execution_count": 5,
     "metadata": {},
     "output_type": "execute_result"
    }
   ],
   "execution_count": 5
  },
  {
   "metadata": {
    "ExecuteTime": {
     "end_time": "2024-12-15T15:16:13.279581Z",
     "start_time": "2024-12-15T15:16:13.273298Z"
    }
   },
   "cell_type": "code",
   "source": [
    "dataset.drop(['Unnamed: 0','vin', 'lot', 'condition'], axis=1, inplace=True)\n",
    "dataset.columns"
   ],
   "id": "a6a36ffe37e73421",
   "outputs": [
    {
     "data": {
      "text/plain": [
       "Index(['price', 'brand', 'model', 'year', 'title_status', 'mileage', 'color',\n",
       "       'state', 'country'],\n",
       "      dtype='object')"
      ]
     },
     "execution_count": 6,
     "metadata": {},
     "output_type": "execute_result"
    }
   ],
   "execution_count": 6
  },
  {
   "metadata": {},
   "cell_type": "markdown",
   "source": [
    "Признаки:\n",
    "\n",
    "1. Price - цена машин\n",
    "2. Brand - бренд машины\n",
    "3. Model - модель\n",
    "4. Year - год выпуска\n",
    "5. title_status - показывает статус машины (clean vehicle - нет аварий, salvage insurance - были аварии)\n",
    "6. mileage - пробег\n",
    "7. color - цвет машины\n",
    "8. vin - это идентификационной номер автомобиля или другого транспортного средства, состоит из 17 символов\n",
    "9. lot - это идентификационный номер, присвоенный определенному количеству или партии материала от одного производителя.\n",
    "10. state - штат\n",
    "11. country - страна\n",
    "12. condition - статус"
   ],
   "id": "205057138c21df02"
  },
  {
   "metadata": {},
   "cell_type": "markdown",
   "source": "Добавим бинарный признак `threshold_price` чтобы разделить машины по двум классам. Дороже или дешевле 42450",
   "id": "ddd3dbe18cc8dd41"
  },
  {
   "metadata": {
    "ExecuteTime": {
     "end_time": "2024-12-15T15:17:46.405385Z",
     "start_time": "2024-12-15T15:17:46.397955Z"
    }
   },
   "cell_type": "code",
   "source": [
    "dataset['binary_price'] = np.where(dataset['price'] >= 42450, 1, 0)\n",
    "dataset['binary_price'].value_counts()"
   ],
   "id": "753b7dee05482f2",
   "outputs": [
    {
     "data": {
      "text/plain": [
       "binary_price\n",
       "0    2375\n",
       "1     124\n",
       "Name: count, dtype: int64"
      ]
     },
     "execution_count": 34,
     "metadata": {},
     "output_type": "execute_result"
    }
   ],
   "execution_count": 34
  },
  {
   "metadata": {},
   "cell_type": "markdown",
   "source": "Столбцы `brand`, `country` и `title_status` содержат категориальные значения, заменим на специальный тип",
   "id": "f3133f13c0201ff6"
  },
  {
   "metadata": {
    "ExecuteTime": {
     "end_time": "2024-12-15T15:16:13.533111Z",
     "start_time": "2024-12-15T15:16:13.528268Z"
    }
   },
   "cell_type": "code",
   "source": [
    "dataset['brand'] = dataset['brand'].astype('category')\n",
    "dataset['brand'].dtype"
   ],
   "id": "46de03e107611531",
   "outputs": [
    {
     "data": {
      "text/plain": [
       "CategoricalDtype(categories=['acura', 'audi', 'bmw', 'buick', 'cadillac', 'chevrolet',\n",
       "                  'chrysler', 'dodge', 'ford', 'gmc', 'harley-davidson',\n",
       "                  'heartland', 'honda', 'hyundai', 'infiniti', 'jaguar',\n",
       "                  'jeep', 'kia', 'land', 'lexus', 'lincoln', 'maserati',\n",
       "                  'mazda', 'mercedes-benz', 'nissan', 'peterbilt', 'ram',\n",
       "                  'toyota'],\n",
       ", ordered=False, categories_dtype=object)"
      ]
     },
     "execution_count": 8,
     "metadata": {},
     "output_type": "execute_result"
    }
   ],
   "execution_count": 8
  },
  {
   "metadata": {
    "ExecuteTime": {
     "end_time": "2024-12-15T15:16:13.746509Z",
     "start_time": "2024-12-15T15:16:13.738279Z"
    }
   },
   "cell_type": "code",
   "source": [
    "dataset['title_status'] = dataset['title_status'].astype('category')\n",
    "dataset['title_status'].dtype"
   ],
   "id": "9bd035974d84c16f",
   "outputs": [
    {
     "data": {
      "text/plain": [
       "CategoricalDtype(categories=['clean vehicle', 'salvage insurance'], ordered=False, categories_dtype=object)"
      ]
     },
     "execution_count": 9,
     "metadata": {},
     "output_type": "execute_result"
    }
   ],
   "execution_count": 9
  },
  {
   "metadata": {
    "ExecuteTime": {
     "end_time": "2024-12-15T15:16:13.928630Z",
     "start_time": "2024-12-15T15:16:13.920701Z"
    }
   },
   "cell_type": "code",
   "source": [
    "dataset['country'] = dataset['country'].astype('category')\n",
    "dataset['country'].dtype"
   ],
   "id": "6f6ccb7ecac5638e",
   "outputs": [
    {
     "data": {
      "text/plain": [
       "CategoricalDtype(categories=[' canada', ' usa'], ordered=False, categories_dtype=object)"
      ]
     },
     "execution_count": 10,
     "metadata": {},
     "output_type": "execute_result"
    }
   ],
   "execution_count": 10
  },
  {
   "metadata": {
    "ExecuteTime": {
     "end_time": "2024-12-15T15:16:14.065682Z",
     "start_time": "2024-12-15T15:16:14.060234Z"
    }
   },
   "cell_type": "code",
   "source": [
    "dataset['model'] = dataset['model'].astype('category')\n",
    "dataset['model'].dtype"
   ],
   "id": "52f3eb78c9c70678",
   "outputs": [
    {
     "data": {
      "text/plain": [
       "CategoricalDtype(categories=['1500', '2500', '2500hd', '300', '3500', '5', 'acadia',\n",
       "                  'altima', 'armada', 'bus',\n",
       "                  ...\n",
       "                  'van', 'vans', 'vehicl', 'versa', 'volt', 'wagon', 'x3',\n",
       "                  'xd', 'xt5', 'xterra'],\n",
       ", ordered=False, categories_dtype=object)"
      ]
     },
     "execution_count": 11,
     "metadata": {},
     "output_type": "execute_result"
    }
   ],
   "execution_count": 11
  },
  {
   "metadata": {
    "ExecuteTime": {
     "end_time": "2024-12-15T15:16:14.206614Z",
     "start_time": "2024-12-15T15:16:14.192441Z"
    }
   },
   "cell_type": "code",
   "source": [
    "dataset['color'] = dataset['color'].astype('category')\n",
    "dataset['color'].dtype"
   ],
   "id": "3ae19c9749ff02b0",
   "outputs": [
    {
     "data": {
      "text/plain": [
       "CategoricalDtype(categories=['beige', 'billet silver metallic clearcoat', 'black',\n",
       "                  'black clearcoat', 'blue', 'bright white clearcoat', 'brown',\n",
       "                  'burgundy', 'cayenne red', 'charcoal', 'color:',\n",
       "                  'competition orange', 'dark blue', 'glacier white', 'gold',\n",
       "                  'gray', 'green', 'guard', 'ingot silver',\n",
       "                  'ingot silver metallic', 'jazz blue pearlcoat',\n",
       "                  'kona blue metallic', 'light blue', 'lightning blue',\n",
       "                  'magnetic metallic', 'maroon', 'morningsky blue', 'no_color',\n",
       "                  'off-white', 'orange', 'oxford white', 'pearl white',\n",
       "                  'phantom black', 'purple', 'red',\n",
       "                  'royal crimson metallic tinted clearcoat', 'ruby red',\n",
       "                  'ruby red metallic tinted clearcoat', 'shadow black',\n",
       "                  'silver', 'super black', 'tan', 'toreador red',\n",
       "                  'triple yellow tri-coat', 'turquoise',\n",
       "                  'tuxedo black metallic', 'white',\n",
       "                  'white platinum tri-coat metallic', 'yellow'],\n",
       ", ordered=False, categories_dtype=object)"
      ]
     },
     "execution_count": 12,
     "metadata": {},
     "output_type": "execute_result"
    }
   ],
   "execution_count": 12
  },
  {
   "metadata": {
    "ExecuteTime": {
     "end_time": "2024-12-15T15:16:14.274103Z",
     "start_time": "2024-12-15T15:16:14.264773Z"
    }
   },
   "cell_type": "code",
   "source": [
    "dataset['state'] = dataset['state'].astype('category')\n",
    "dataset['state'].dtype"
   ],
   "id": "503698309f8e1d80",
   "outputs": [
    {
     "data": {
      "text/plain": [
       "CategoricalDtype(categories=['alabama', 'arizona', 'arkansas', 'california', 'colorado',\n",
       "                  'connecticut', 'florida', 'georgia', 'idaho', 'illinois',\n",
       "                  'indiana', 'kansas', 'kentucky', 'louisiana', 'maryland',\n",
       "                  'massachusetts', 'michigan', 'minnesota', 'mississippi',\n",
       "                  'missouri', 'montana', 'nebraska', 'nevada', 'new hampshire',\n",
       "                  'new jersey', 'new mexico', 'new york', 'north carolina',\n",
       "                  'ohio', 'oklahoma', 'ontario', 'oregon', 'pennsylvania',\n",
       "                  'rhode island', 'south carolina', 'tennessee', 'texas',\n",
       "                  'utah', 'vermont', 'virginia', 'washington', 'west virginia',\n",
       "                  'wisconsin', 'wyoming'],\n",
       ", ordered=False, categories_dtype=object)"
      ]
     },
     "execution_count": 13,
     "metadata": {},
     "output_type": "execute_result"
    }
   ],
   "execution_count": 13
  },
  {
   "metadata": {},
   "cell_type": "markdown",
   "source": [
    "\n",
    "## 2. Визуализация и описательная статистика\n",
    "\n",
    "Информация о числовых признакаx:"
   ],
   "id": "47a6b873ba6d08d3"
  },
  {
   "metadata": {
    "ExecuteTime": {
     "end_time": "2024-12-15T15:16:14.407844Z",
     "start_time": "2024-12-15T15:16:14.387757Z"
    }
   },
   "cell_type": "code",
   "source": "dataset.describe()",
   "id": "65b254bab5347f15",
   "outputs": [
    {
     "data": {
      "text/plain": [
       "              price         year       mileage  binary_price\n",
       "count   2499.000000  2499.000000  2.499000e+03   2499.000000\n",
       "mean   18767.671469  2016.714286  5.229869e+04      0.049620\n",
       "std    12116.094936     3.442656  5.970552e+04      0.217202\n",
       "min        0.000000  1973.000000  0.000000e+00      0.000000\n",
       "25%    10200.000000  2016.000000  2.146650e+04      0.000000\n",
       "50%    16900.000000  2018.000000  3.536500e+04      0.000000\n",
       "75%    25555.500000  2019.000000  6.347250e+04      0.000000\n",
       "max    84900.000000  2020.000000  1.017936e+06      1.000000"
      ],
      "text/html": [
       "<div>\n",
       "<style scoped>\n",
       "    .dataframe tbody tr th:only-of-type {\n",
       "        vertical-align: middle;\n",
       "    }\n",
       "\n",
       "    .dataframe tbody tr th {\n",
       "        vertical-align: top;\n",
       "    }\n",
       "\n",
       "    .dataframe thead th {\n",
       "        text-align: right;\n",
       "    }\n",
       "</style>\n",
       "<table border=\"1\" class=\"dataframe\">\n",
       "  <thead>\n",
       "    <tr style=\"text-align: right;\">\n",
       "      <th></th>\n",
       "      <th>price</th>\n",
       "      <th>year</th>\n",
       "      <th>mileage</th>\n",
       "      <th>binary_price</th>\n",
       "    </tr>\n",
       "  </thead>\n",
       "  <tbody>\n",
       "    <tr>\n",
       "      <th>count</th>\n",
       "      <td>2499.000000</td>\n",
       "      <td>2499.000000</td>\n",
       "      <td>2.499000e+03</td>\n",
       "      <td>2499.000000</td>\n",
       "    </tr>\n",
       "    <tr>\n",
       "      <th>mean</th>\n",
       "      <td>18767.671469</td>\n",
       "      <td>2016.714286</td>\n",
       "      <td>5.229869e+04</td>\n",
       "      <td>0.049620</td>\n",
       "    </tr>\n",
       "    <tr>\n",
       "      <th>std</th>\n",
       "      <td>12116.094936</td>\n",
       "      <td>3.442656</td>\n",
       "      <td>5.970552e+04</td>\n",
       "      <td>0.217202</td>\n",
       "    </tr>\n",
       "    <tr>\n",
       "      <th>min</th>\n",
       "      <td>0.000000</td>\n",
       "      <td>1973.000000</td>\n",
       "      <td>0.000000e+00</td>\n",
       "      <td>0.000000</td>\n",
       "    </tr>\n",
       "    <tr>\n",
       "      <th>25%</th>\n",
       "      <td>10200.000000</td>\n",
       "      <td>2016.000000</td>\n",
       "      <td>2.146650e+04</td>\n",
       "      <td>0.000000</td>\n",
       "    </tr>\n",
       "    <tr>\n",
       "      <th>50%</th>\n",
       "      <td>16900.000000</td>\n",
       "      <td>2018.000000</td>\n",
       "      <td>3.536500e+04</td>\n",
       "      <td>0.000000</td>\n",
       "    </tr>\n",
       "    <tr>\n",
       "      <th>75%</th>\n",
       "      <td>25555.500000</td>\n",
       "      <td>2019.000000</td>\n",
       "      <td>6.347250e+04</td>\n",
       "      <td>0.000000</td>\n",
       "    </tr>\n",
       "    <tr>\n",
       "      <th>max</th>\n",
       "      <td>84900.000000</td>\n",
       "      <td>2020.000000</td>\n",
       "      <td>1.017936e+06</td>\n",
       "      <td>1.000000</td>\n",
       "    </tr>\n",
       "  </tbody>\n",
       "</table>\n",
       "</div>"
      ]
     },
     "execution_count": 14,
     "metadata": {},
     "output_type": "execute_result"
    }
   ],
   "execution_count": 14
  },
  {
   "metadata": {},
   "cell_type": "markdown",
   "source": [
    "- min – минимальное значение признака\n",
    "- max – максимальное значение признака\n",
    "- mean – среднее значение\n",
    "- std – среднеквадратическое отклонение\n",
    "- 25% – первый квартиль – значение, ниже которого лежит 25% значений\n",
    "- 50% – медиана – значение, 50% значений меньше которого, а другие 50% больше\n",
    "- 75% – третий квартиль – значение, ниже которого лежит около 75% значений\n",
    "\n",
    "Нет пропущенных значений.\n"
   ],
   "id": "47ccf84c2ba52dae"
  },
  {
   "metadata": {},
   "cell_type": "markdown",
   "source": "Информация о категориях:",
   "id": "76a2ded023d08cbf"
  },
  {
   "metadata": {
    "ExecuteTime": {
     "end_time": "2024-12-15T15:16:14.511802Z",
     "start_time": "2024-12-15T15:16:14.497304Z"
    }
   },
   "cell_type": "code",
   "source": "dataset.describe(include=['category'])",
   "id": "132d5d415afbeedc",
   "outputs": [
    {
     "data": {
      "text/plain": [
       "       brand model   title_status  color         state country\n",
       "count   2499  2499           2499   2499          2499    2499\n",
       "unique    28   127              2     49            44       2\n",
       "top     ford  door  clean vehicle  white  pennsylvania     usa\n",
       "freq    1235   651           2336    707           299    2492"
      ],
      "text/html": [
       "<div>\n",
       "<style scoped>\n",
       "    .dataframe tbody tr th:only-of-type {\n",
       "        vertical-align: middle;\n",
       "    }\n",
       "\n",
       "    .dataframe tbody tr th {\n",
       "        vertical-align: top;\n",
       "    }\n",
       "\n",
       "    .dataframe thead th {\n",
       "        text-align: right;\n",
       "    }\n",
       "</style>\n",
       "<table border=\"1\" class=\"dataframe\">\n",
       "  <thead>\n",
       "    <tr style=\"text-align: right;\">\n",
       "      <th></th>\n",
       "      <th>brand</th>\n",
       "      <th>model</th>\n",
       "      <th>title_status</th>\n",
       "      <th>color</th>\n",
       "      <th>state</th>\n",
       "      <th>country</th>\n",
       "    </tr>\n",
       "  </thead>\n",
       "  <tbody>\n",
       "    <tr>\n",
       "      <th>count</th>\n",
       "      <td>2499</td>\n",
       "      <td>2499</td>\n",
       "      <td>2499</td>\n",
       "      <td>2499</td>\n",
       "      <td>2499</td>\n",
       "      <td>2499</td>\n",
       "    </tr>\n",
       "    <tr>\n",
       "      <th>unique</th>\n",
       "      <td>28</td>\n",
       "      <td>127</td>\n",
       "      <td>2</td>\n",
       "      <td>49</td>\n",
       "      <td>44</td>\n",
       "      <td>2</td>\n",
       "    </tr>\n",
       "    <tr>\n",
       "      <th>top</th>\n",
       "      <td>ford</td>\n",
       "      <td>door</td>\n",
       "      <td>clean vehicle</td>\n",
       "      <td>white</td>\n",
       "      <td>pennsylvania</td>\n",
       "      <td>usa</td>\n",
       "    </tr>\n",
       "    <tr>\n",
       "      <th>freq</th>\n",
       "      <td>1235</td>\n",
       "      <td>651</td>\n",
       "      <td>2336</td>\n",
       "      <td>707</td>\n",
       "      <td>299</td>\n",
       "      <td>2492</td>\n",
       "    </tr>\n",
       "  </tbody>\n",
       "</table>\n",
       "</div>"
      ]
     },
     "execution_count": 15,
     "metadata": {},
     "output_type": "execute_result"
    }
   ],
   "execution_count": 15
  },
  {
   "metadata": {},
   "cell_type": "markdown",
   "source": [
    "- count - количество ненулевых значений\n",
    "- unique - число уникальных категорий.\n",
    "- top - наиболее часто встречающаяся категория.\n",
    "- freq - частота появления самой популярной категории"
   ],
   "id": "5793d920164a1ed7"
  },
  {
   "metadata": {},
   "cell_type": "markdown",
   "source": "Вычислим матрицу корреляции для количественных признаков и визуализируем её образ.",
   "id": "64e88303dacf86ef"
  },
  {
   "metadata": {
    "ExecuteTime": {
     "end_time": "2024-12-15T15:16:14.739852Z",
     "start_time": "2024-12-15T15:16:14.727131Z"
    }
   },
   "cell_type": "code",
   "source": [
    "correlation_matrix = dataset.corr(numeric_only=True)\n",
    "correlation_matrix"
   ],
   "id": "627b2772d3ae01ca",
   "outputs": [
    {
     "data": {
      "text/plain": [
       "                 price      year   mileage  binary_price\n",
       "price         1.000000  0.418274 -0.400838      0.604254\n",
       "year          0.418274  1.000000 -0.594686      0.101949\n",
       "mileage      -0.400838 -0.594686  1.000000     -0.103166\n",
       "binary_price  0.604254  0.101949 -0.103166      1.000000"
      ],
      "text/html": [
       "<div>\n",
       "<style scoped>\n",
       "    .dataframe tbody tr th:only-of-type {\n",
       "        vertical-align: middle;\n",
       "    }\n",
       "\n",
       "    .dataframe tbody tr th {\n",
       "        vertical-align: top;\n",
       "    }\n",
       "\n",
       "    .dataframe thead th {\n",
       "        text-align: right;\n",
       "    }\n",
       "</style>\n",
       "<table border=\"1\" class=\"dataframe\">\n",
       "  <thead>\n",
       "    <tr style=\"text-align: right;\">\n",
       "      <th></th>\n",
       "      <th>price</th>\n",
       "      <th>year</th>\n",
       "      <th>mileage</th>\n",
       "      <th>binary_price</th>\n",
       "    </tr>\n",
       "  </thead>\n",
       "  <tbody>\n",
       "    <tr>\n",
       "      <th>price</th>\n",
       "      <td>1.000000</td>\n",
       "      <td>0.418274</td>\n",
       "      <td>-0.400838</td>\n",
       "      <td>0.604254</td>\n",
       "    </tr>\n",
       "    <tr>\n",
       "      <th>year</th>\n",
       "      <td>0.418274</td>\n",
       "      <td>1.000000</td>\n",
       "      <td>-0.594686</td>\n",
       "      <td>0.101949</td>\n",
       "    </tr>\n",
       "    <tr>\n",
       "      <th>mileage</th>\n",
       "      <td>-0.400838</td>\n",
       "      <td>-0.594686</td>\n",
       "      <td>1.000000</td>\n",
       "      <td>-0.103166</td>\n",
       "    </tr>\n",
       "    <tr>\n",
       "      <th>binary_price</th>\n",
       "      <td>0.604254</td>\n",
       "      <td>0.101949</td>\n",
       "      <td>-0.103166</td>\n",
       "      <td>1.000000</td>\n",
       "    </tr>\n",
       "  </tbody>\n",
       "</table>\n",
       "</div>"
      ]
     },
     "execution_count": 16,
     "metadata": {},
     "output_type": "execute_result"
    }
   ],
   "execution_count": 16
  },
  {
   "metadata": {
    "ExecuteTime": {
     "end_time": "2024-12-15T15:16:15.239238Z",
     "start_time": "2024-12-15T15:16:15.012497Z"
    }
   },
   "cell_type": "code",
   "source": [
    "sns.heatmap(dataset.corr(numeric_only=True), annot=True, square=True, cmap='coolwarm')\n",
    "pass"
   ],
   "id": "aa87fa3d5cdc57d1",
   "outputs": [
    {
     "data": {
      "text/plain": [
       "<Figure size 640x480 with 2 Axes>"
      ],
      "image/png": "[encoded data removed]"
     },
     "metadata": {},
     "output_type": "display_data"
    }
   ],
   "execution_count": 17
  },
  {
   "metadata": {},
   "cell_type": "markdown",
   "source": "Цена умерено связана с возрастом машины и пробегом. Чем больше возраст и пробег тем дешевле машина. Пробег влияет на цену машины сильнее, чем ее возраст.",
   "id": "395347bb299b7ca0"
  },
  {
   "metadata": {},
   "cell_type": "markdown",
   "source": "Диаграммы рассеивания:",
   "id": "309933b4201e37c0"
  },
  {
   "metadata": {
    "ExecuteTime": {
     "end_time": "2024-12-15T15:16:18.767638Z",
     "start_time": "2024-12-15T15:16:15.520978Z"
    }
   },
   "cell_type": "code",
   "source": [
    "np.random.seed(42)\n",
    "random_subset = np.random.choice(np.arange(dataset.shape[0]), size=2498, replace=False)\n",
    "sns.pairplot(dataset.iloc[random_subset], hue='binary_price', diag_kind='hist')\n",
    "plt.legend()\n",
    "pass"
   ],
   "id": "b8cc3dbddaa28294",
   "outputs": [
    {
     "name": "stderr",
     "output_type": "stream",
     "text": [
      "/tmp/ipykernel_11507/2494290961.py:4: UserWarning: No artists with labels found to put in legend.  Note that artists whose label start with an underscore are ignored when legend() is called with no argument.\n",
      "  plt.legend()\n"
     ]
    },
    {
     "data": {
      "text/plain": [
       "<Figure size 846.861x750 with 12 Axes>"
      ],
      "image/png": "[encoded data removed]"
     },
     "metadata": {},
     "output_type": "display_data"
    }
   ],
   "execution_count": 18
  },
  {
   "metadata": {},
   "cell_type": "markdown",
   "source": "Новые и машины с небольшим пробегом наиболее дорогие",
   "id": "1fd5a5f6ae0bde3a"
  },
  {
   "metadata": {},
   "cell_type": "markdown",
   "source": [
    "\n",
    "## 3. Заполнение пропущенных значений"
   ],
   "id": "f082b1e08f2f1b4d"
  },
  {
   "metadata": {},
   "cell_type": "markdown",
   "source": "Проверка пропущенных значений",
   "id": "3bf36cdfbf919b43"
  },
  {
   "metadata": {
    "ExecuteTime": {
     "end_time": "2024-12-15T15:16:18.862038Z",
     "start_time": "2024-12-15T15:16:18.853952Z"
    }
   },
   "cell_type": "code",
   "source": "dataset.isnull().sum()",
   "id": "179e805edc6e2cc2",
   "outputs": [
    {
     "data": {
      "text/plain": [
       "price           0\n",
       "brand           0\n",
       "model           0\n",
       "year            0\n",
       "title_status    0\n",
       "mileage         0\n",
       "color           0\n",
       "state           0\n",
       "country         0\n",
       "binary_price    0\n",
       "dtype: int64"
      ]
     },
     "execution_count": 19,
     "metadata": {},
     "output_type": "execute_result"
    }
   ],
   "execution_count": 19
  },
  {
   "metadata": {},
   "cell_type": "markdown",
   "source": [
    "\n",
    "## 4. Бинаризация номинальных признаков"
   ],
   "id": "11d7e009dc08b24c"
  },
  {
   "metadata": {
    "ExecuteTime": {
     "end_time": "2024-12-15T15:16:18.933528Z",
     "start_time": "2024-12-15T15:16:18.929357Z"
    }
   },
   "cell_type": "code",
   "source": [
    "categorical_columns = [i for i in dataset.columns if dataset[i].dtype == 'category']\n",
    "numerical_columns = [i for i in dataset.columns if dataset[i].dtype != 'category']\n",
    "print(categorical_columns)\n",
    "print(numerical_columns)"
   ],
   "id": "dc4ae9b8f16ab5b",
   "outputs": [
    {
     "name": "stdout",
     "output_type": "stream",
     "text": [
      "['brand', 'model', 'title_status', 'color', 'state', 'country']\n",
      "['price', 'year', 'mileage', 'binary_price']\n"
     ]
    }
   ],
   "execution_count": 20
  },
  {
   "metadata": {
    "ExecuteTime": {
     "end_time": "2024-12-15T15:16:19.044487Z",
     "start_time": "2024-12-15T15:16:19.040629Z"
    }
   },
   "cell_type": "code",
   "source": [
    "binary_columns = [i for i in categorical_columns if len(dataset[i].unique()) == 2]\n",
    "nonbinary_columns = [i for i in categorical_columns if len(dataset[i].unique()) > 2]\n",
    "print(binary_columns, nonbinary_columns)"
   ],
   "id": "c91bdddfdd9be89",
   "outputs": [
    {
     "name": "stdout",
     "output_type": "stream",
     "text": [
      "['title_status', 'country'] ['brand', 'model', 'color', 'state']\n"
     ]
    }
   ],
   "execution_count": 21
  },
  {
   "metadata": {},
   "cell_type": "markdown",
   "source": [
    "Бинарные признаки `color` и `title_status` заменим на числовые.\n",
    "\n",
    "К небинарным признакам `model` и `brand` применим метод бинаризации с помощью функции get_dummies:"
   ],
   "id": "a6a9666eca41894f"
  },
  {
   "metadata": {
    "ExecuteTime": {
     "end_time": "2024-12-15T15:16:19.207369Z",
     "start_time": "2024-12-15T15:16:19.180911Z"
    }
   },
   "cell_type": "code",
   "source": [
    "processed_dataset = dataset.loc[:, ['price', 'brand', 'model', 'year', 'title_status',\n",
    "                        'mileage', 'color', 'country',\n",
    "                        'binary_price']].copy()\n",
    "\n",
    "# бинарные данные\n",
    "#processed_dataset['title_status'] = pd.factorize(processed_dataset['title_status'])[0]\n",
    "processed_dataset['country'] = pd.factorize(processed_dataset['country'])[0]\n",
    "\n",
    "processed_dataset['color'] = pd.factorize(processed_dataset['color'])[0]\n",
    "\n",
    "# не бинарные\n",
    "title_dummies = pd.get_dummies(processed_dataset['title_status'])\n",
    "model_dummies = pd.get_dummies(processed_dataset['model'])\n",
    "brand_dummies = pd.get_dummies(processed_dataset['brand'])\n",
    "\n",
    "processed_dataset = pd.concat((processed_dataset, title_dummies), axis=1)\n",
    "processed_dataset = processed_dataset.drop(['title_status'], axis=1)\n",
    "processed_dataset = pd.concat((processed_dataset, model_dummies), axis=1)\n",
    "processed_dataset = processed_dataset.drop(['model'], axis=1)\n",
    "processed_dataset = pd.concat((processed_dataset, brand_dummies), axis=1)\n",
    "processed_dataset = processed_dataset.drop(['brand'], axis=1)\n",
    "\n",
    "processed_dataset.head()"
   ],
   "id": "522b410957c7717c",
   "outputs": [
    {
     "data": {
      "text/plain": [
       "   price  year   mileage  color  country  binary_price  clean vehicle  \\\n",
       "0   6300  2008  274117.0      0        0             0           True   \n",
       "1   2899  2011  190552.0      1        0             0           True   \n",
       "2   5350  2018   39590.0      1        0             0           True   \n",
       "3  25000  2014   64146.0      2        0             0           True   \n",
       "4  27700  2018    6654.0      3        0             0           True   \n",
       "\n",
       "   salvage insurance   1500   2500  ...   land  lexus  lincoln  maserati  \\\n",
       "0              False  False  False  ...  False  False    False     False   \n",
       "1              False  False  False  ...  False  False    False     False   \n",
       "2              False  False  False  ...  False  False    False     False   \n",
       "3              False  False  False  ...  False  False    False     False   \n",
       "4              False   True  False  ...  False  False    False     False   \n",
       "\n",
       "   mazda  mercedes-benz  nissan  peterbilt    ram  toyota  \n",
       "0  False          False   False      False  False    True  \n",
       "1  False          False   False      False  False   False  \n",
       "2  False          False   False      False  False   False  \n",
       "3  False          False   False      False  False   False  \n",
       "4  False          False   False      False  False   False  \n",
       "\n",
       "[5 rows x 163 columns]"
      ],
      "text/html": [
       "<div>\n",
       "<style scoped>\n",
       "    .dataframe tbody tr th:only-of-type {\n",
       "        vertical-align: middle;\n",
       "    }\n",
       "\n",
       "    .dataframe tbody tr th {\n",
       "        vertical-align: top;\n",
       "    }\n",
       "\n",
       "    .dataframe thead th {\n",
       "        text-align: right;\n",
       "    }\n",
       "</style>\n",
       "<table border=\"1\" class=\"dataframe\">\n",
       "  <thead>\n",
       "    <tr style=\"text-align: right;\">\n",
       "      <th></th>\n",
       "      <th>price</th>\n",
       "      <th>year</th>\n",
       "      <th>mileage</th>\n",
       "      <th>color</th>\n",
       "      <th>country</th>\n",
       "      <th>binary_price</th>\n",
       "      <th>clean vehicle</th>\n",
       "      <th>salvage insurance</th>\n",
       "      <th>1500</th>\n",
       "      <th>2500</th>\n",
       "      <th>...</th>\n",
       "      <th>land</th>\n",
       "      <th>lexus</th>\n",
       "      <th>lincoln</th>\n",
       "      <th>maserati</th>\n",
       "      <th>mazda</th>\n",
       "      <th>mercedes-benz</th>\n",
       "      <th>nissan</th>\n",
       "      <th>peterbilt</th>\n",
       "      <th>ram</th>\n",
       "      <th>toyota</th>\n",
       "    </tr>\n",
       "  </thead>\n",
       "  <tbody>\n",
       "    <tr>\n",
       "      <th>0</th>\n",
       "      <td>6300</td>\n",
       "      <td>2008</td>\n",
       "      <td>274117.0</td>\n",
       "      <td>0</td>\n",
       "      <td>0</td>\n",
       "      <td>0</td>\n",
       "      <td>True</td>\n",
       "      <td>False</td>\n",
       "      <td>False</td>\n",
       "      <td>False</td>\n",
       "      <td>...</td>\n",
       "      <td>False</td>\n",
       "      <td>False</td>\n",
       "      <td>False</td>\n",
       "      <td>False</td>\n",
       "      <td>False</td>\n",
       "      <td>False</td>\n",
       "      <td>False</td>\n",
       "      <td>False</td>\n",
       "      <td>False</td>\n",
       "      <td>True</td>\n",
       "    </tr>\n",
       "    <tr>\n",
       "      <th>1</th>\n",
       "      <td>2899</td>\n",
       "      <td>2011</td>\n",
       "      <td>190552.0</td>\n",
       "      <td>1</td>\n",
       "      <td>0</td>\n",
       "      <td>0</td>\n",
       "      <td>True</td>\n",
       "      <td>False</td>\n",
       "      <td>False</td>\n",
       "      <td>False</td>\n",
       "      <td>...</td>\n",
       "      <td>False</td>\n",
       "      <td>False</td>\n",
       "      <td>False</td>\n",
       "      <td>False</td>\n",
       "      <td>False</td>\n",
       "      <td>False</td>\n",
       "      <td>False</td>\n",
       "      <td>False</td>\n",
       "      <td>False</td>\n",
       "      <td>False</td>\n",
       "    </tr>\n",
       "    <tr>\n",
       "      <th>2</th>\n",
       "      <td>5350</td>\n",
       "      <td>2018</td>\n",
       "      <td>39590.0</td>\n",
       "      <td>1</td>\n",
       "      <td>0</td>\n",
       "      <td>0</td>\n",
       "      <td>True</td>\n",
       "      <td>False</td>\n",
       "      <td>False</td>\n",
       "      <td>False</td>\n",
       "      <td>...</td>\n",
       "      <td>False</td>\n",
       "      <td>False</td>\n",
       "      <td>False</td>\n",
       "      <td>False</td>\n",
       "      <td>False</td>\n",
       "      <td>False</td>\n",
       "      <td>False</td>\n",
       "      <td>False</td>\n",
       "      <td>False</td>\n",
       "      <td>False</td>\n",
       "    </tr>\n",
       "    <tr>\n",
       "      <th>3</th>\n",
       "      <td>25000</td>\n",
       "      <td>2014</td>\n",
       "      <td>64146.0</td>\n",
       "      <td>2</td>\n",
       "      <td>0</td>\n",
       "      <td>0</td>\n",
       "      <td>True</td>\n",
       "      <td>False</td>\n",
       "      <td>False</td>\n",
       "      <td>False</td>\n",
       "      <td>...</td>\n",
       "      <td>False</td>\n",
       "      <td>False</td>\n",
       "      <td>False</td>\n",
       "      <td>False</td>\n",
       "      <td>False</td>\n",
       "      <td>False</td>\n",
       "      <td>False</td>\n",
       "      <td>False</td>\n",
       "      <td>False</td>\n",
       "      <td>False</td>\n",
       "    </tr>\n",
       "    <tr>\n",
       "      <th>4</th>\n",
       "      <td>27700</td>\n",
       "      <td>2018</td>\n",
       "      <td>6654.0</td>\n",
       "      <td>3</td>\n",
       "      <td>0</td>\n",
       "      <td>0</td>\n",
       "      <td>True</td>\n",
       "      <td>False</td>\n",
       "      <td>True</td>\n",
       "      <td>False</td>\n",
       "      <td>...</td>\n",
       "      <td>False</td>\n",
       "      <td>False</td>\n",
       "      <td>False</td>\n",
       "      <td>False</td>\n",
       "      <td>False</td>\n",
       "      <td>False</td>\n",
       "      <td>False</td>\n",
       "      <td>False</td>\n",
       "      <td>False</td>\n",
       "      <td>False</td>\n",
       "    </tr>\n",
       "  </tbody>\n",
       "</table>\n",
       "<p>5 rows × 163 columns</p>\n",
       "</div>"
      ]
     },
     "execution_count": 22,
     "metadata": {},
     "output_type": "execute_result"
    }
   ],
   "execution_count": 22
  },
  {
   "metadata": {
    "ExecuteTime": {
     "end_time": "2024-12-15T15:16:19.310001Z",
     "start_time": "2024-12-15T15:16:19.304905Z"
    }
   },
   "cell_type": "code",
   "source": "processed_dataset.columns",
   "id": "7f6aaf5eea4cc3f9",
   "outputs": [
    {
     "data": {
      "text/plain": [
       "Index(['price', 'year', 'mileage', 'color', 'country', 'binary_price',\n",
       "       'clean vehicle', 'salvage insurance', '1500', '2500',\n",
       "       ...\n",
       "       'land', 'lexus', 'lincoln', 'maserati', 'mazda', 'mercedes-benz',\n",
       "       'nissan', 'peterbilt', 'ram', 'toyota'],\n",
       "      dtype='object', length=163)"
      ]
     },
     "execution_count": 23,
     "metadata": {},
     "output_type": "execute_result"
    }
   ],
   "execution_count": 23
  },
  {
   "metadata": {},
   "cell_type": "markdown",
   "source": "## 5. Нормализация количественных признаков",
   "id": "68f405a139d14690"
  },
  {
   "metadata": {
    "ExecuteTime": {
     "end_time": "2024-12-15T15:16:19.594389Z",
     "start_time": "2024-12-15T15:16:19.341556Z"
    }
   },
   "cell_type": "code",
   "source": [
    "processed_dataset = processed_dataset.astype(int)\n",
    "data_norm = (processed_dataset - processed_dataset.min(axis=0)) / (processed_dataset.max(axis=0) - processed_dataset.min(axis=0))\n",
    "data_norm.describe()"
   ],
   "id": "1dc2e15e2ea4f2a4",
   "outputs": [
    {
     "data": {
      "text/plain": [
       "             price         year      mileage        color      country  \\\n",
       "count  2499.000000  2499.000000  2499.000000  2499.000000  2499.000000   \n",
       "mean      0.221056     0.930091     0.051377     0.080115     0.002801   \n",
       "std       0.142710     0.073248     0.058654     0.110793     0.052862   \n",
       "min       0.000000     0.000000     0.000000     0.000000     0.000000   \n",
       "25%       0.120141     0.914894     0.021088     0.020833     0.000000   \n",
       "50%       0.199058     0.957447     0.034742     0.083333     0.000000   \n",
       "75%       0.301007     0.978723     0.062354     0.104167     0.000000   \n",
       "max       1.000000     1.000000     1.000000     1.000000     1.000000   \n",
       "\n",
       "       binary_price  clean vehicle  salvage insurance         1500  \\\n",
       "count   2499.000000    2499.000000        2499.000000  2499.000000   \n",
       "mean       0.049620       0.934774           0.065226     0.015606   \n",
       "std        0.217202       0.246974           0.246974     0.123971   \n",
       "min        0.000000       0.000000           0.000000     0.000000   \n",
       "25%        0.000000       1.000000           0.000000     0.000000   \n",
       "50%        0.000000       1.000000           0.000000     0.000000   \n",
       "75%        0.000000       1.000000           0.000000     0.000000   \n",
       "max        1.000000       1.000000           1.000000     1.000000   \n",
       "\n",
       "              2500  ...         land        lexus      lincoln     maserati  \\\n",
       "count  2499.000000  ...  2499.000000  2499.000000  2499.000000  2499.000000   \n",
       "mean      0.003201  ...     0.001601     0.000800     0.000800     0.000400   \n",
       "std       0.056501  ...     0.039984     0.028284     0.028284     0.020004   \n",
       "min       0.000000  ...     0.000000     0.000000     0.000000     0.000000   \n",
       "25%       0.000000  ...     0.000000     0.000000     0.000000     0.000000   \n",
       "50%       0.000000  ...     0.000000     0.000000     0.000000     0.000000   \n",
       "75%       0.000000  ...     0.000000     0.000000     0.000000     0.000000   \n",
       "max       1.000000  ...     1.000000     1.000000     1.000000     1.000000   \n",
       "\n",
       "             mazda  mercedes-benz       nissan    peterbilt          ram  \\\n",
       "count  2499.000000    2499.000000  2499.000000  2499.000000  2499.000000   \n",
       "mean      0.000800       0.004002     0.124850     0.001601     0.000400   \n",
       "std       0.028284       0.063144     0.330615     0.039984     0.020004   \n",
       "min       0.000000       0.000000     0.000000     0.000000     0.000000   \n",
       "25%       0.000000       0.000000     0.000000     0.000000     0.000000   \n",
       "50%       0.000000       0.000000     0.000000     0.000000     0.000000   \n",
       "75%       0.000000       0.000000     0.000000     0.000000     0.000000   \n",
       "max       1.000000       1.000000     1.000000     1.000000     1.000000   \n",
       "\n",
       "            toyota  \n",
       "count  2499.000000  \n",
       "mean      0.000400  \n",
       "std       0.020004  \n",
       "min       0.000000  \n",
       "25%       0.000000  \n",
       "50%       0.000000  \n",
       "75%       0.000000  \n",
       "max       1.000000  \n",
       "\n",
       "[8 rows x 163 columns]"
      ],
      "text/html": [
       "<div>\n",
       "<style scoped>\n",
       "    .dataframe tbody tr th:only-of-type {\n",
       "        vertical-align: middle;\n",
       "    }\n",
       "\n",
       "    .dataframe tbody tr th {\n",
       "        vertical-align: top;\n",
       "    }\n",
       "\n",
       "    .dataframe thead th {\n",
       "        text-align: right;\n",
       "    }\n",
       "</style>\n",
       "<table border=\"1\" class=\"dataframe\">\n",
       "  <thead>\n",
       "    <tr style=\"text-align: right;\">\n",
       "      <th></th>\n",
       "      <th>price</th>\n",
       "      <th>year</th>\n",
       "      <th>mileage</th>\n",
       "      <th>color</th>\n",
       "      <th>country</th>\n",
       "      <th>binary_price</th>\n",
       "      <th>clean vehicle</th>\n",
       "      <th>salvage insurance</th>\n",
       "      <th>1500</th>\n",
       "      <th>2500</th>\n",
       "      <th>...</th>\n",
       "      <th>land</th>\n",
       "      <th>lexus</th>\n",
       "      <th>lincoln</th>\n",
       "      <th>maserati</th>\n",
       "      <th>mazda</th>\n",
       "      <th>mercedes-benz</th>\n",
       "      <th>nissan</th>\n",
       "      <th>peterbilt</th>\n",
       "      <th>ram</th>\n",
       "      <th>toyota</th>\n",
       "    </tr>\n",
       "  </thead>\n",
       "  <tbody>\n",
       "    <tr>\n",
       "      <th>count</th>\n",
       "      <td>2499.000000</td>\n",
       "      <td>2499.000000</td>\n",
       "      <td>2499.000000</td>\n",
       "      <td>2499.000000</td>\n",
       "      <td>2499.000000</td>\n",
       "      <td>2499.000000</td>\n",
       "      <td>2499.000000</td>\n",
       "      <td>2499.000000</td>\n",
       "      <td>2499.000000</td>\n",
       "      <td>2499.000000</td>\n",
       "      <td>...</td>\n",
       "      <td>2499.000000</td>\n",
       "      <td>2499.000000</td>\n",
       "      <td>2499.000000</td>\n",
       "      <td>2499.000000</td>\n",
       "      <td>2499.000000</td>\n",
       "      <td>2499.000000</td>\n",
       "      <td>2499.000000</td>\n",
       "      <td>2499.000000</td>\n",
       "      <td>2499.000000</td>\n",
       "      <td>2499.000000</td>\n",
       "    </tr>\n",
       "    <tr>\n",
       "      <th>mean</th>\n",
       "      <td>0.221056</td>\n",
       "      <td>0.930091</td>\n",
       "      <td>0.051377</td>\n",
       "      <td>0.080115</td>\n",
       "      <td>0.002801</td>\n",
       "      <td>0.049620</td>\n",
       "      <td>0.934774</td>\n",
       "      <td>0.065226</td>\n",
       "      <td>0.015606</td>\n",
       "      <td>0.003201</td>\n",
       "      <td>...</td>\n",
       "      <td>0.001601</td>\n",
       "      <td>0.000800</td>\n",
       "      <td>0.000800</td>\n",
       "      <td>0.000400</td>\n",
       "      <td>0.000800</td>\n",
       "      <td>0.004002</td>\n",
       "      <td>0.124850</td>\n",
       "      <td>0.001601</td>\n",
       "      <td>0.000400</td>\n",
       "      <td>0.000400</td>\n",
       "    </tr>\n",
       "    <tr>\n",
       "      <th>std</th>\n",
       "      <td>0.142710</td>\n",
       "      <td>0.073248</td>\n",
       "      <td>0.058654</td>\n",
       "      <td>0.110793</td>\n",
       "      <td>0.052862</td>\n",
       "      <td>0.217202</td>\n",
       "      <td>0.246974</td>\n",
       "      <td>0.246974</td>\n",
       "      <td>0.123971</td>\n",
       "      <td>0.056501</td>\n",
       "      <td>...</td>\n",
       "      <td>0.039984</td>\n",
       "      <td>0.028284</td>\n",
       "      <td>0.028284</td>\n",
       "      <td>0.020004</td>\n",
       "      <td>0.028284</td>\n",
       "      <td>0.063144</td>\n",
       "      <td>0.330615</td>\n",
       "      <td>0.039984</td>\n",
       "      <td>0.020004</td>\n",
       "      <td>0.020004</td>\n",
       "    </tr>\n",
       "    <tr>\n",
       "      <th>min</th>\n",
       "      <td>0.000000</td>\n",
       "      <td>0.000000</td>\n",
       "      <td>0.000000</td>\n",
       "      <td>0.000000</td>\n",
       "      <td>0.000000</td>\n",
       "      <td>0.000000</td>\n",
       "      <td>0.000000</td>\n",
       "      <td>0.000000</td>\n",
       "      <td>0.000000</td>\n",
       "      <td>0.000000</td>\n",
       "      <td>...</td>\n",
       "      <td>0.000000</td>\n",
       "      <td>0.000000</td>\n",
       "      <td>0.000000</td>\n",
       "      <td>0.000000</td>\n",
       "      <td>0.000000</td>\n",
       "      <td>0.000000</td>\n",
       "      <td>0.000000</td>\n",
       "      <td>0.000000</td>\n",
       "      <td>0.000000</td>\n",
       "      <td>0.000000</td>\n",
       "    </tr>\n",
       "    <tr>\n",
       "      <th>25%</th>\n",
       "      <td>0.120141</td>\n",
       "      <td>0.914894</td>\n",
       "      <td>0.021088</td>\n",
       "      <td>0.020833</td>\n",
       "      <td>0.000000</td>\n",
       "      <td>0.000000</td>\n",
       "      <td>1.000000</td>\n",
       "      <td>0.000000</td>\n",
       "      <td>0.000000</td>\n",
       "      <td>0.000000</td>\n",
       "      <td>...</td>\n",
       "      <td>0.000000</td>\n",
       "      <td>0.000000</td>\n",
       "      <td>0.000000</td>\n",
       "      <td>0.000000</td>\n",
       "      <td>0.000000</td>\n",
       "      <td>0.000000</td>\n",
       "      <td>0.000000</td>\n",
       "      <td>0.000000</td>\n",
       "      <td>0.000000</td>\n",
       "      <td>0.000000</td>\n",
       "    </tr>\n",
       "    <tr>\n",
       "      <th>50%</th>\n",
       "      <td>0.199058</td>\n",
       "      <td>0.957447</td>\n",
       "      <td>0.034742</td>\n",
       "      <td>0.083333</td>\n",
       "      <td>0.000000</td>\n",
       "      <td>0.000000</td>\n",
       "      <td>1.000000</td>\n",
       "      <td>0.000000</td>\n",
       "      <td>0.000000</td>\n",
       "      <td>0.000000</td>\n",
       "      <td>...</td>\n",
       "      <td>0.000000</td>\n",
       "      <td>0.000000</td>\n",
       "      <td>0.000000</td>\n",
       "      <td>0.000000</td>\n",
       "      <td>0.000000</td>\n",
       "      <td>0.000000</td>\n",
       "      <td>0.000000</td>\n",
       "      <td>0.000000</td>\n",
       "      <td>0.000000</td>\n",
       "      <td>0.000000</td>\n",
       "    </tr>\n",
       "    <tr>\n",
       "      <th>75%</th>\n",
       "      <td>0.301007</td>\n",
       "      <td>0.978723</td>\n",
       "      <td>0.062354</td>\n",
       "      <td>0.104167</td>\n",
       "      <td>0.000000</td>\n",
       "      <td>0.000000</td>\n",
       "      <td>1.000000</td>\n",
       "      <td>0.000000</td>\n",
       "      <td>0.000000</td>\n",
       "      <td>0.000000</td>\n",
       "      <td>...</td>\n",
       "      <td>0.000000</td>\n",
       "      <td>0.000000</td>\n",
       "      <td>0.000000</td>\n",
       "      <td>0.000000</td>\n",
       "      <td>0.000000</td>\n",
       "      <td>0.000000</td>\n",
       "      <td>0.000000</td>\n",
       "      <td>0.000000</td>\n",
       "      <td>0.000000</td>\n",
       "      <td>0.000000</td>\n",
       "    </tr>\n",
       "    <tr>\n",
       "      <th>max</th>\n",
       "      <td>1.000000</td>\n",
       "      <td>1.000000</td>\n",
       "      <td>1.000000</td>\n",
       "      <td>1.000000</td>\n",
       "      <td>1.000000</td>\n",
       "      <td>1.000000</td>\n",
       "      <td>1.000000</td>\n",
       "      <td>1.000000</td>\n",
       "      <td>1.000000</td>\n",
       "      <td>1.000000</td>\n",
       "      <td>...</td>\n",
       "      <td>1.000000</td>\n",
       "      <td>1.000000</td>\n",
       "      <td>1.000000</td>\n",
       "      <td>1.000000</td>\n",
       "      <td>1.000000</td>\n",
       "      <td>1.000000</td>\n",
       "      <td>1.000000</td>\n",
       "      <td>1.000000</td>\n",
       "      <td>1.000000</td>\n",
       "      <td>1.000000</td>\n",
       "    </tr>\n",
       "  </tbody>\n",
       "</table>\n",
       "<p>8 rows × 163 columns</p>\n",
       "</div>"
      ]
     },
     "execution_count": 24,
     "metadata": {},
     "output_type": "execute_result"
    }
   ],
   "execution_count": 24
  },
  {
   "metadata": {},
   "cell_type": "markdown",
   "source": "## 6. Отбор признаков",
   "id": "4d17897b6cc690b0"
  },
  {
   "metadata": {},
   "cell_type": "markdown",
   "source": "Для предсказания стоимости автомобиля `binary_price` будем использовать все входные признаки кроме `price` и `binary_price`",
   "id": "d70aadd35b3e6917"
  },
  {
   "metadata": {
    "ExecuteTime": {
     "end_time": "2024-12-15T15:16:19.929152Z",
     "start_time": "2024-12-15T15:16:19.921060Z"
    }
   },
   "cell_type": "code",
   "source": [
    "X = data_norm.drop(['price', 'binary_price'], axis=1)\n",
    "y = data_norm['binary_price']"
   ],
   "id": "7e231f7f2261d0c4",
   "outputs": [],
   "execution_count": 25
  },
  {
   "metadata": {
    "ExecuteTime": {
     "end_time": "2024-12-15T15:16:20.294573Z",
     "start_time": "2024-12-15T15:16:20.189342Z"
    }
   },
   "cell_type": "code",
   "source": [
    "from sklearn.neighbors import KNeighborsClassifier\n",
    "from sklearn import neighbors\n",
    "from sklearn.model_selection import train_test_split"
   ],
   "id": "d6a389fd5d264335",
   "outputs": [],
   "execution_count": 26
  },
  {
   "metadata": {},
   "cell_type": "markdown",
   "source": "Разобьем данные на обучающую и тестовую выборки в пропорции 3:1 (75% - обучающая выборка, 25% - тестовая):",
   "id": "43512c0ce5356663"
  },
  {
   "metadata": {
    "ExecuteTime": {
     "end_time": "2024-12-15T16:03:37.569174Z",
     "start_time": "2024-12-15T16:03:37.501854Z"
    }
   },
   "cell_type": "code",
   "source": [
    "X_train, X_test, y_train, y_test = train_test_split(X, y, test_size = 0.25,\n",
    "                                                    random_state = 42)\n",
    "model = neighbors.KNeighborsClassifier(n_neighbors = 17)\n",
    "model.fit(X_train, y_train)\n",
    "y_test_pred = model.predict(X_test)\n",
    "\n",
    "N_train, _ = X_train.shape\n",
    "N_test, _ = X_test.shape\n",
    "N_train, N_test"
   ],
   "id": "d64e029fed9d289d",
   "outputs": [
    {
     "data": {
      "text/plain": [
       "(1874, 625)"
      ]
     },
     "execution_count": 35,
     "metadata": {},
     "output_type": "execute_result"
    }
   ],
   "execution_count": 35
  },
  {
   "metadata": {},
   "cell_type": "markdown",
   "source": "## 7. Классификатор ближайших соседей kNN",
   "id": "2dc5f5abad43eb13"
  },
  {
   "metadata": {
    "ExecuteTime": {
     "end_time": "2024-12-15T16:03:40.204031Z",
     "start_time": "2024-12-15T16:03:40.196490Z"
    }
   },
   "cell_type": "code",
   "source": [
    "from sklearn import metrics\n",
    "print(1 - metrics.accuracy_score(y_test, y_test_pred))\n",
    "print(np.mean(y_test != y_test_pred))"
   ],
   "id": "c70c8aa250ff01f4",
   "outputs": [
    {
     "name": "stdout",
     "output_type": "stream",
     "text": [
      "0.043200000000000016\n",
      "0.0432\n"
     ]
    }
   ],
   "execution_count": 36
  },
  {
   "metadata": {
    "ExecuteTime": {
     "end_time": "2024-12-15T16:03:47.057357Z",
     "start_time": "2024-12-15T16:03:44.394483Z"
    }
   },
   "cell_type": "code",
   "source": [
    "k_range = range(1, 30)\n",
    "err_train = []\n",
    "err_test = []\n",
    "for k in k_range:\n",
    "    model = neighbors.KNeighborsClassifier(n_neighbors = k)\n",
    "    model.fit(X_train, y_train)\n",
    "    err_train.append(np.mean(model.predict(X_train) != y_train))\n",
    "    err_test.append(np.mean(model.predict(X_test) != y_test))"
   ],
   "id": "6f5ee769e904a2fc",
   "outputs": [],
   "execution_count": 37
  },
  {
   "metadata": {
    "ExecuteTime": {
     "end_time": "2024-12-15T16:03:48.780638Z",
     "start_time": "2024-12-15T16:03:48.684159Z"
    }
   },
   "cell_type": "code",
   "source": [
    "plt.plot(k_range, err_train, '.-r', label = 'Train error')\n",
    "plt.plot(k_range, err_test,  '.-b', label = 'Test error')\n",
    "plt.legend(loc = 2)\n",
    "plt.xlim([30, 0])\n",
    "pass"
   ],
   "id": "b51adfa0b7d80f6f",
   "outputs": [
    {
     "data": {
      "text/plain": [
       "<Figure size 640x480 with 1 Axes>"
      ],
      "image/png": "[encoded data removed]"
     },
     "metadata": {},
     "output_type": "display_data"
    }
   ],
   "execution_count": 38
  },
  {
   "metadata": {
    "ExecuteTime": {
     "end_time": "2024-12-15T16:03:57.246169Z",
     "start_time": "2024-12-15T16:03:57.242463Z"
    }
   },
   "cell_type": "code",
   "source": [
    "print(min(err_test))\n",
    "print(err_train[k_range[err_test.index(min(err_test))]])\n",
    "print(k_range[err_test.index(min(err_test))])"
   ],
   "id": "55b39156434cab69",
   "outputs": [
    {
     "name": "stdout",
     "output_type": "stream",
     "text": [
      "0.0432\n",
      "0.0368196371398079\n",
      "17\n"
     ]
    }
   ],
   "execution_count": 39
  },
  {
   "metadata": {},
   "cell_type": "markdown",
   "source": "Получено оптимально число ближайших соседей - 17 c минимальным значением ошибки на тестовой выборке и соответствующем значением ошибки на обучающей выборке. Ввиду ненатренерованности модели ошибка на обучающей выборке ниже, чем на тестовой. При увеличении количества соседей ошибка на обучающей выборке ухудшается, но незначительно улучшается ошибка на тестовой до определенного числа соседей.",
   "id": "a45b04c441e138d7"
  },
  {
   "metadata": {},
   "cell_type": "markdown",
   "source": "## 8. Случайный лес",
   "id": "bedf7ba56df4916e"
  },
  {
   "metadata": {
    "ExecuteTime": {
     "end_time": "2024-12-15T16:04:08.721580Z",
     "start_time": "2024-12-15T16:04:08.478573Z"
    }
   },
   "cell_type": "code",
   "source": [
    "from sklearn.ensemble import RandomForestClassifier\n",
    "rf = RandomForestClassifier()\n",
    "rf.fit(X_train, y_train)\n",
    "\n",
    "err_train = np.mean(y_train != rf.predict(X_train))\n",
    "err_test  = np.mean(y_test  != rf.predict(X_test))\n",
    "\n",
    "print(\"error_train : {:.16f}, error_test: {:.16f} \".format(err_train, err_test))"
   ],
   "id": "b4f4dc2818338c3c",
   "outputs": [
    {
     "name": "stdout",
     "output_type": "stream",
     "text": [
      "error_train : 0.0000000000000000, error_test: 0.0448000000000000 \n"
     ]
    }
   ],
   "execution_count": 40
  },
  {
   "metadata": {},
   "cell_type": "markdown",
   "source": "Алгоритм случайного леса оказался близок по точности с алгоритмом k-ближайших соседей при оптимальных параметрах каждого из методов на тестовой выборке, на обучающей значительно точнее. У тренировочной выборки ошибка мала и близка к нулю.",
   "id": "aeb06561d927963a"
  },
  {
   "metadata": {},
   "cell_type": "markdown",
   "source": [
    "## 9 Выводы\n",
    "В работе производился анализ данных о стоимости автомобилей и решение задачи классификации с помощью моделей, которые были натренированы методами k-ближайших соседей и случайного леса. В ходе работы проведены:\n",
    "1. Вычисление основных статистических характеристик и их анализ\n",
    "2. Нормализация количественных признаков (с помощью линейного преобразования к отрезку [0, 1])\n",
    "3. Разбиение данных на обучающую и тестовую выборки\n",
    "4. Выбор алгоритма классификации и проверка качества модели\n",
    "5. Сравнение 2 моделей, алгоритм случайного леса оказался лучше метода к-ближайших соседе"
   ],
   "id": "4fa0c38fdc0789fa"
  }
 ],
 "metadata": {
  "kernelspec": {
   "display_name": "Python 3",
   "language": "python",
   "name": "python3"
  },
  "language_info": {
   "codemirror_mode": {
    "name": "ipython",
    "version": 2
   },
   "file_extension": ".py",
   "mimetype": "text/x-python",
   "name": "python",
   "nbconvert_exporter": "python",
   "pygments_lexer": "ipython2",
   "version": "2.7.6"
  }
 },
 "nbformat": 4,
 "nbformat_minor": 5
}
